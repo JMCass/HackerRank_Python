{
 "cells": [
  {
   "cell_type": "markdown",
   "metadata": {},
   "source": [
    "# Say \"Hello, World!\" With Python"
   ]
  },
  {
   "cell_type": "code",
   "execution_count": null,
   "metadata": {},
   "outputs": [],
   "source": [
    "#Here is a sample line of code that can be executed in Python:\n",
    "\n",
    "#print(\"Hello, World!\")\n",
    "#You can just as easily store a string as a variable and then print it to stdout:\n",
    "\n",
    "#my_string = \"Hello, World!\"\n",
    "#print(my_string)\n",
    "#The above code will print Hello, World! on your screen. Try it yourself in the editor below!\n",
    "\n",
    "#Input Format\n",
    "\n",
    "#You do not need to read any input in this challenge.\n",
    "\n",
    "#Output Format\n",
    "\n",
    "#Print Hello, World! to stdout.\n",
    "\n",
    "#Sample Output 0\n",
    "\n",
    "#Hello, World!\n",
    "\n",
    "print(\"Hello, World!\")"
   ]
  },
  {
   "cell_type": "markdown",
   "metadata": {},
   "source": [
    "# Python If-Else"
   ]
  },
  {
   "cell_type": "code",
   "execution_count": null,
   "metadata": {},
   "outputs": [],
   "source": [
    "# Python If-Else\n",
    "\n",
    "# Task \n",
    "# Given an integer, n, perform the following conditional actions:\n",
    "# If n is odd, print Weird\n",
    "# If n is even and in the inclusive range of 2 to 5, print Not Weird\n",
    "# If n is even and in the inclusive range of 6 to 20, print Weird\n",
    "# If n is even and greater than 20, print Not Weird\n",
    "\n",
    "# Input Format\n",
    "# A single line containing a positive integer, n.\n",
    "\n",
    "# Constraints\n",
    "# 1 <= n <= 100\n",
    "\n",
    "# Output Format\n",
    "# Print Weird if the number is weird; otherwise, print Not Weird.\n",
    "\n",
    "#!/bin/python\n",
    "\n",
    "import math\n",
    "import os\n",
    "import random\n",
    "import re\n",
    "import sys\n",
    "\n",
    "if __name__ == '__main__':\n",
    "    n = int(input().strip())\n",
    "\n",
    "if n % 2 != 0:\n",
    "    print (\"Weird\")\n",
    "else:\n",
    "    if n >= 2 and n <= 5:\n",
    "        print (\"Not Weird\")\n",
    "    elif n >= 6 and n <= 20:\n",
    "        print (\"Weird\")\n",
    "    elif n > 20:\n",
    "        print (\"Not Weird\")"
   ]
  },
  {
   "cell_type": "markdown",
   "metadata": {},
   "source": [
    "# Arithmetic Operators"
   ]
  },
  {
   "cell_type": "code",
   "execution_count": null,
   "metadata": {},
   "outputs": [],
   "source": [
    "#Task\n",
    "#Read two integers from STDIN and print three lines where:\n",
    "\n",
    "#The first line contains the sum of the two numbers.\n",
    "#The second line contains the difference of the two numbers (first - second).\n",
    "#The third line contains the product of the two numbers.\n",
    "\n",
    "#Input Format\n",
    "#The first line contains the first integer, . The second line contains the second integer, .\n",
    "\n",
    "#Output Format\n",
    "#Print the three lines as explained above.\n",
    "\n",
    "import math\n",
    "import os\n",
    "import random\n",
    "import re\n",
    "import sys\n",
    "\n",
    "if __name__ == '__main__':\n",
    "    a = int(input())\n",
    "    b = int(input())\n",
    "\n",
    "    print (a + b)\n",
    "    print (a - b)\n",
    "    print (a * b)"
   ]
  },
  {
   "cell_type": "code",
   "execution_count": null,
   "metadata": {},
   "outputs": [],
   "source": []
  }
 ],
 "metadata": {
  "kernelspec": {
   "display_name": "Python 3",
   "language": "python",
   "name": "python3"
  },
  "language_info": {
   "codemirror_mode": {
    "name": "ipython",
    "version": 3
   },
   "file_extension": ".py",
   "mimetype": "text/x-python",
   "name": "python",
   "nbconvert_exporter": "python",
   "pygments_lexer": "ipython3",
   "version": "3.7.7"
  }
 },
 "nbformat": 4,
 "nbformat_minor": 4
}
